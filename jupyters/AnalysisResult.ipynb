{
 "cells": [
  {
   "cell_type": "code",
   "execution_count": 1,
   "metadata": {},
   "outputs": [],
   "source": [
    "import pyspark.sql.types as st\n",
    "import pyspark.sql.functions as sf\n",
    "from pyspark.sql import SparkSession, SQLContext\n",
    "from datetime import datetime"
   ]
  },
  {
   "cell_type": "code",
   "execution_count": 2,
   "metadata": {},
   "outputs": [],
   "source": [
    "# Spark Session app\n",
    "spark = SparkSession \\\n",
    "  .builder \\\n",
    "  .appName('creditas-exploration') \\\n",
    "  .getOrCreate()\n",
    "\n",
    "# Create a SQL Context\n",
    "sc = spark.sparkContext\n"
   ]
  },
  {
   "cell_type": "code",
   "execution_count": 3,
   "metadata": {},
   "outputs": [],
   "source": [
    "# Directory origem with all the pre-processing datas.\n",
    "path_local_container = \"/home/jovyan/work/datasets/\"\n",
    "\n",
    "\n",
    "# Added local diretory with all files transient.\n",
    "path_google_ads = path_local_container+\"google_ads_media_costs.jsonl\"\n",
    "path_facebook_ads = path_local_container+\"facebook_ads_media_costs.jsonl\"\n",
    "path_pageviews = path_local_container+\"pageview.txt\"\n",
    "path_clf = path_local_container+\"customer_leads_funnel.csv\"\n",
    "\n",
    "\n",
    "# Added local diretory Raw\n",
    "path_raw_google = path_local_container+\"raw/prd_lake_google_ads\"\n",
    "path_raw_facebook = path_local_container+\"raw/prd_lake_facebook_ads\"\n",
    "path_raw_pageviews = path_local_container+\"raw/prd_lake_pageviews\"\n",
    "path_raw_clf = path_local_container+\"raw/prd_lake_clf\"\n",
    "\n",
    "# Added local diretory Refined\n",
    "path_refined_most_expensive_campaign = path_local_container+\"refined/most expensive campaign\"\n",
    "path_refined_most_profitable_campaign = path_local_container+\"refined/most profitable campaign\"\n",
    "path_refined_most_effective_clicks = path_local_container+\"refined/most effective_clicks\"\n",
    "path_refined_most_effective_leads = path_local_container+\"refined/most effective_leads\""
   ]
  },
  {
   "cell_type": "markdown",
   "metadata": {},
   "source": [
    "### Google Json Read"
   ]
  },
  {
   "cell_type": "code",
   "execution_count": 5,
   "metadata": {},
   "outputs": [],
   "source": [
    "# Extract schema\n",
    "SCHEMA = spark.read.json(path_google_ads).schema\n",
    "\n",
    "\n",
    "# Load json.\n",
    "df_read_json_google = spark \\\n",
    "    .read.json(path_google_ads, SCHEMA) \\\n",
    "    .withColumn('date', sf.date_format('date','yyyy-MM-dd')) \\\n",
    "    .withColumn('integration_date', sf.lit(datetime.utcnow())) \\\n",
    "    .withColumn('clicks', sf.col('clicks').cast('integer')) \\\n",
    "    .withColumn('cost', sf.col('cost').cast('decimal'))\n",
    "\n",
    "\n",
    "# Save Dataframe in parquet.\n",
    "df_read_json_google.write \\\n",
    "    .mode('overwrite') \\\n",
    "    .parquet(path_raw_google)"
   ]
  },
  {
   "cell_type": "markdown",
   "metadata": {},
   "source": [
    "### Facebook Json Read"
   ]
  },
  {
   "cell_type": "code",
   "execution_count": 6,
   "metadata": {},
   "outputs": [],
   "source": [
    "# Extract schema\n",
    "SCHEMA = spark.read.json(path_facebook_ads).schema\n",
    "\n",
    "\n",
    "# Load json.\n",
    "df_read_json_face = spark \\\n",
    "    .read.json(path_facebook_ads, SCHEMA) \\\n",
    "    .withColumn('date', sf.date_format('date','yyyy-MM-dd')) \\\n",
    "    .withColumn('integration_date', sf.lit(datetime.utcnow())) \\\n",
    "    .withColumn('clicks', sf.col('clicks').cast('integer')) \\\n",
    "    .withColumn('cost', sf.col('cost').cast('decimal'))\n",
    "\n",
    "\n",
    "# Save Dataframe in parquet.\n",
    "df_read_json_face.write \\\n",
    "    .mode('overwrite') \\\n",
    "    .parquet(path_raw_facebook)"
   ]
  },
  {
   "cell_type": "markdown",
   "metadata": {},
   "source": [
    "### Pageviews Txt Read"
   ]
  },
  {
   "cell_type": "code",
   "execution_count": 7,
   "metadata": {},
   "outputs": [],
   "source": [
    "# Load json.\n",
    "SCHEMA_PAGE = st.StructType([\n",
    "    st.StructField('endpoint', st.StringType(), True),\n",
    "    st.StructField('device', st.StringType(), True),\n",
    "    st.StructField('referer', st.StringType(), True),\n",
    "])\n",
    "\n",
    "\n",
    "df_read_txt_page = spark.read \\\n",
    "    .option('delimiter','|') \\\n",
    "    .csv(path_pageviews, SCHEMA_PAGE)\n",
    "\n",
    "\n",
    "# Find in endpoint column spliting when word \"ad_creative_id\" and \"campaign_id\"\n",
    "split_col = sf.split(df_read_txt_page['endpoint'], 'ad_creative_id')\n",
    "split_col1 = sf.split(df_read_txt_page['endpoint'], 'campaign_id')\n",
    "\n",
    "\n",
    "# device Column - I do the substring for the recover only cod and not the word \"device_id: g7DDoCqp9V\"\n",
    "# referer Column - I do the substring for the recover only refers and not the word \"referer: http://www.facebook.com\"\n",
    "# ad_creative_id Column - I do the split colunm ex:\"|20001&campaign_id=1003 |\" and then use substring\n",
    "#                         for unwanted characters and maintains only \"20001\"\n",
    "df_read_txt_page_intermediate = df_read_txt_page \\\n",
    "    .withColumn('device', sf.trim(sf.substring('device', 12, 30))) \\\n",
    "    .withColumn('referer', sf.trim(sf.substring('referer', 11, 50))) \\\n",
    "    .withColumn('ad_creative_id', sf.trim(sf.substring(split_col.getItem(1), 2, 5))) \\\n",
    "    .withColumn('campaign_id', sf.trim(sf.substring(split_col1.getItem(1), 2, 6))) \\\n",
    "    .withColumn('integration_date', sf.lit(datetime.utcnow()))\n",
    "\n",
    "\n",
    "# Remove endpoint Column\n",
    "df_read_txt_page_final = df_read_txt_page_intermediate.drop('endpoint')\n",
    "\n",
    "\n",
    "# Save Dataframe in parquet.\n",
    "df_read_txt_page_final.write \\\n",
    "    .mode('overwrite') \\\n",
    "    .parquet(path_raw_pageviews)"
   ]
  },
  {
   "cell_type": "markdown",
   "metadata": {},
   "source": [
    "### CLF (Customer Lead Funnel)"
   ]
  },
  {
   "cell_type": "code",
   "execution_count": 8,
   "metadata": {},
   "outputs": [],
   "source": [
    "# Extract schema\n",
    "SCHEMA_CLF = st.StructType([\n",
    "    st.StructField('device_id', st.StringType(), True),\n",
    "    st.StructField('lead_id', st.LongType(), True),\n",
    "    st.StructField('registered_at', st.TimestampType(), True),\n",
    "    st.StructField('credit_decision', st.StringType(), True),\n",
    "    st.StructField('credit_decision_at', st.TimestampType(), True),\n",
    "    st.StructField('signed_at', st.TimestampType(), True),\n",
    "    st.StructField('revenue', st.DecimalType(15, 2), True), ])\n",
    "\n",
    "\n",
    "df_read_csv_clf = spark.read \\\n",
    "    .option('delimiter',',') \\\n",
    "    .csv(path_clf, SCHEMA_CLF) \\\n",
    "    .withColumn('registered_at', sf.date_format('registered_at','yyyy-MM-dd HH:mm:ss')) \\\n",
    "    .withColumn('credit_decision_at', sf.date_format('credit_decision_at','yyyy-MM-dd HH:mm:ss')) \\\n",
    "    .withColumn('signed_at', sf.date_format('signed_at','yyyy-MM-dd HH:mm:ss')) \\\n",
    "    .withColumn('integration_date', sf.lit(datetime.utcnow()))\n",
    "\n",
    "\n",
    "# Save Dataframe in parquet.\n",
    "df_read_csv_clf.write \\\n",
    "    .mode('overwrite') \\\n",
    "    .parquet(path_raw_clf)"
   ]
  },
  {
   "cell_type": "markdown",
   "metadata": {},
   "source": [
    "### Save DataFrame in MySql"
   ]
  },
  {
   "cell_type": "code",
   "execution_count": 19,
   "metadata": {},
   "outputs": [],
   "source": [
    "MYSQL_USERNAME = \"creditas_test\";\n",
    "MYSQL_PWD = \"password\";\n",
    "MYSQL_CONNECTION_URL = \"jdbc:mysql://mysql_murillo:3306/creditas\";\n",
    "DRIVER ='com.mysql.jdbc.Driver';"
   ]
  },
  {
   "cell_type": "code",
   "execution_count": 20,
   "metadata": {},
   "outputs": [],
   "source": [
    "# Save Google ADS in Mysql\n",
    "df_read_json_google.write.format('jdbc').options(\n",
    "      url=MYSQL_CONNECTION_URL,\n",
    "      driver=DRIVER,\n",
    "      dbtable='google_ads',\n",
    "      user=MYSQL_USERNAME,\n",
    "      password=MYSQL_PWD).mode('overwrite').save()"
   ]
  },
  {
   "cell_type": "code",
   "execution_count": 21,
   "metadata": {},
   "outputs": [],
   "source": [
    "# Save Facebook ADS in Mysql\n",
    "df_read_json_face.write.format('jdbc').options(\n",
    "      url=MYSQL_CONNECTION_URL,\n",
    "      driver=DRIVER,\n",
    "      dbtable='facebook_ads',\n",
    "      user=MYSQL_USERNAME,\n",
    "      password=MYSQL_PWD).mode('overwrite').save()"
   ]
  },
  {
   "cell_type": "code",
   "execution_count": 22,
   "metadata": {},
   "outputs": [],
   "source": [
    "# Save Pageviews in Mysql \n",
    "df_read_txt_page_final.write.format('jdbc').options(\n",
    "      url=MYSQL_CONNECTION_URL,\n",
    "      driver=DRIVER,\n",
    "      dbtable='pageviews',\n",
    "      user=MYSQL_USERNAME,\n",
    "      password=MYSQL_PWD).mode('overwrite').save()"
   ]
  },
  {
   "cell_type": "code",
   "execution_count": 23,
   "metadata": {},
   "outputs": [],
   "source": [
    "# Save CLF(Customer Lead Funnel) in Mysql\n",
    "df_read_csv_clf.write.format('jdbc').options(\n",
    "      url=MYSQL_CONNECTION_URL,\n",
    "      driver=DRIVER,\n",
    "      dbtable='customer_lead_funnef',\n",
    "      user=MYSQL_USERNAME,\n",
    "      password=MYSQL_PWD).mode('overwrite').save()"
   ]
  },
  {
   "cell_type": "markdown",
   "metadata": {},
   "source": [
    "## Query Answers"
   ]
  },
  {
   "cell_type": "markdown",
   "metadata": {},
   "source": [
    "### 1 - What was the most expensive campaign?"
   ]
  },
  {
   "cell_type": "code",
   "execution_count": 24,
   "metadata": {},
   "outputs": [],
   "source": [
    "df_read_clf = spark.read.parquet(path_raw_clf)\n",
    "df_read_pageview = spark.read.parquet(path_raw_pageviews)\n",
    "df_read_google = spark.read.parquet(path_raw_google)\n",
    "df_read_face = spark.read.parquet(path_raw_facebook)\n",
    "\n",
    "df_read_clf.createOrReplaceTempView('customer_lead_funnel')\n",
    "df_read_pageview.createOrReplaceTempView('pageviews')\n",
    "df_read_google.createOrReplaceTempView('google_ads')\n",
    "df_read_face.createOrReplaceTempView('facebook_ads')"
   ]
  },
  {
   "cell_type": "code",
   "execution_count": 25,
   "metadata": {},
   "outputs": [],
   "source": [
    "# It most expensive descending, the most and then less\n",
    "most_expensive = spark.sql(\n",
    "\"\"\"\n",
    "select result.type_ads, \n",
    "       result.campaigns_name,\n",
    "       sum(result.cost) as total_cost \n",
    "from (\n",
    "        select 'Google' type_ads,\n",
    "               a.ad_creative_name campaigns_name, \n",
    "               a.cost  \n",
    "          from google_ads a\n",
    "          union all\n",
    "        select 'Facebook' type_ads,\n",
    "               b.facebook_campaign_name, \n",
    "               b.cost \n",
    "          from facebook_ads b) result\n",
    "group by result.type_ads,\n",
    "         result.campaigns_name\n",
    "order by 3 desc\n",
    "\"\"\")"
   ]
  },
  {
   "cell_type": "code",
   "execution_count": 26,
   "metadata": {},
   "outputs": [
    {
     "name": "stdout",
     "output_type": "stream",
     "text": [
      "+--------+--------------------------------+----------+\n",
      "|type_ads|campaigns_name                  |total_cost|\n",
      "+--------+--------------------------------+----------+\n",
      "|Google  |logo_creditas_taxa_frente_branco|20034     |\n",
      "|Google  |homem_sorrindo_fundo_rua_012    |19987     |\n",
      "|Google  |carro_frente_logo1              |19938     |\n",
      "|Google  |mulheres_bracos_alto            |19878     |\n",
      "|Google  |homem_sorrindo_fundo_carro_012  |19872     |\n",
      "+--------+--------------------------------+----------+\n",
      "only showing top 5 rows\n",
      "\n"
     ]
    }
   ],
   "source": [
    "most_expensive.show(truncate=False, n=5)"
   ]
  },
  {
   "cell_type": "markdown",
   "metadata": {},
   "source": [
    "### 2 - What was the most profitable campaign?"
   ]
  },
  {
   "cell_type": "code",
   "execution_count": 32,
   "metadata": {},
   "outputs": [],
   "source": [
    "union_campaigns = spark.sql(\n",
    "\"\"\"\n",
    "select 'Google Campaigns' type_ads,\n",
    "       go.google_campaign_id campaigns_id,\n",
    "       go.google_campaign_name campaigns_name,\n",
    "       go.cost,\n",
    "       go.impressions\n",
    "  from google_ads go\n",
    "union all\n",
    "select 'Facebook Campaigns' type,\n",
    "       fa.facebook_campaign_id,\n",
    "       fa.facebook_campaign_name,\n",
    "       fa.cost,\n",
    "       fa.impressions\n",
    "  from facebook_ads fa\n",
    "\"\"\").createOrReplaceTempView('union_campaigns')"
   ]
  },
  {
   "cell_type": "code",
   "execution_count": 37,
   "metadata": {},
   "outputs": [],
   "source": [
    "# It most profitable descending, the most and then less and impressions quantity\n",
    "most_profitable = spark.sql(\n",
    "\"\"\"\n",
    "select camp.type_ads,\n",
    "       camp.campaigns_name,\n",
    "       sum(camp.impressions) impressions\n",
    "  from customer_lead_funnel clf,\n",
    "       pageviews page,\n",
    "       union_campaigns camp\n",
    " where clf.credit_decision = 'A'\n",
    "   and clf.device_id = page.device\n",
    "   and page.campaign_id = camp.campaigns_id\n",
    "group by camp.type_ads,\n",
    "         camp.campaigns_name\n",
    "order by 3 desc\n",
    "\n",
    "\"\"\")"
   ]
  },
  {
   "cell_type": "code",
   "execution_count": null,
   "metadata": {},
   "outputs": [],
   "source": [
    "most_profitable.show(truncate=False, n=5)"
   ]
  },
  {
   "cell_type": "markdown",
   "metadata": {},
   "source": [
    "### 3 - Which ad creative is the most effective in terms of clicks?"
   ]
  },
  {
   "cell_type": "code",
   "execution_count": 36,
   "metadata": {},
   "outputs": [],
   "source": [
    "# It most effective descending, the less costs and most clicks\n",
    "most_effective_clicks = spark.sql(\n",
    "\"\"\"\n",
    "select go.ad_creative_id,\n",
    "       go.ad_creative_name,\n",
    "       sum(go.clicks) clicks,\n",
    "       sum(go.cost) costs\n",
    "  from pageviews page,\n",
    "       google_ads go\n",
    " where page.ad_creative_id = go.ad_creative_id\n",
    "group by go.ad_creative_id,\n",
    "         go.ad_creative_name\n",
    "order by 4 asc\n",
    "\"\"\")"
   ]
  },
  {
   "cell_type": "code",
   "execution_count": null,
   "metadata": {},
   "outputs": [],
   "source": [
    "most_effective_clicks.show(truncate=False, n=5)"
   ]
  },
  {
   "cell_type": "markdown",
   "metadata": {},
   "source": [
    "### 4 - Which ad creative is the most effective in terms of generating leads?"
   ]
  },
  {
   "cell_type": "code",
   "execution_count": 35,
   "metadata": {},
   "outputs": [],
   "source": [
    "# It most effective in generating leads is occur registration and high number of impressions  \n",
    "most_effective_leads = spark.sql(\n",
    "\"\"\"\n",
    "\n",
    "select go.ad_creative_id,\n",
    "       go.ad_creative_name,\n",
    "       sum(go.impressions) impressions\n",
    "  from pageviews page,\n",
    "       google_ads go,\n",
    "       customer_lead_funnel clf\n",
    " where page.ad_creative_id = go.ad_creative_id\n",
    "   and page.device = clf.device_id\n",
    "   and clf.signed_at is not null\n",
    "group by go.ad_creative_id,\n",
    "         go.ad_creative_name\n",
    "order by 3 desc\n",
    "\"\"\")"
   ]
  },
  {
   "cell_type": "code",
   "execution_count": null,
   "metadata": {},
   "outputs": [],
   "source": [
    "most_effective_leads.show(truncate=False, n=5)"
   ]
  },
  {
   "cell_type": "markdown",
   "metadata": {},
   "source": [
    "### Save Answers in Parquest"
   ]
  },
  {
   "cell_type": "code",
   "execution_count": 39,
   "metadata": {},
   "outputs": [],
   "source": [
    "path_refined_most_expensive_campaign = path_local_container+\"refined/most expensive campaign\"\n",
    "path_refined_most_profitable_campaign = path_local_container+\"refined/most profitable campaign\"\n",
    "path_refined_most_effective_clicks = path_local_container+\"refined/most effective_clicks\"\n",
    "path_refined_most_effective_leads = path_local_container+\"refined/most effective_leads\"\n",
    "\n",
    "# Saves Answers in refined diretory.\n",
    "most_expensive.write \\\n",
    "    .mode('overwrite') \\\n",
    "    .parquet(path_refined_most_expensive_campaign)\n",
    "\n",
    "most_profitable.write \\\n",
    "    .mode('overwrite') \\\n",
    "    .parquet(path_refined_most_profitable_campaign)\n",
    "\n",
    "most_effective_clicks.write \\\n",
    "    .mode('overwrite') \\\n",
    "    .parquet(path_refined_most_effective_clicks)\n",
    "\n",
    "most_effective_leads.write \\\n",
    "    .mode('overwrite') \\\n",
    "    .parquet(path_refined_most_effective_leads)"
   ]
  }
 ],
 "metadata": {
  "kernelspec": {
   "display_name": "Python 3",
   "language": "python",
   "name": "python3"
  },
  "language_info": {
   "codemirror_mode": {
    "name": "ipython",
    "version": 3
   },
   "file_extension": ".py",
   "mimetype": "text/x-python",
   "name": "python",
   "nbconvert_exporter": "python",
   "pygments_lexer": "ipython3",
   "version": "3.7.3"
  }
 },
 "nbformat": 4,
 "nbformat_minor": 2
}
